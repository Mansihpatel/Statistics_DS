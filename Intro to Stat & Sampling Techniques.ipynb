{
 "cells": [
  {
   "cell_type": "code",
   "execution_count": 1,
   "metadata": {
    "ExecuteTime": {
     "end_time": "2021-02-14T13:43:26.626852Z",
     "start_time": "2021-02-14T13:43:26.601189Z"
    }
   },
   "outputs": [],
   "source": [
    "# probability and non-probability sampling\n",
    "# examples of probability based sampling\n",
    "\n"
   ]
  },
  {
   "cell_type": "code",
   "execution_count": 22,
   "metadata": {
    "ExecuteTime": {
     "end_time": "2021-02-14T14:05:58.710264Z",
     "start_time": "2021-02-14T14:05:58.698667Z"
    }
   },
   "outputs": [],
   "source": [
    "import pandas as pd\n",
    "import numpy as np \n",
    "import random\n"
   ]
  },
  {
   "cell_type": "code",
   "execution_count": 87,
   "metadata": {
    "ExecuteTime": {
     "end_time": "2021-02-14T15:33:55.539977Z",
     "start_time": "2021-02-14T15:33:55.445926Z"
    }
   },
   "outputs": [
    {
     "name": "stdout",
     "output_type": "stream",
     "text": [
      "       ID  Zone  Weight\n",
      "990   991     1       2\n",
      "991   992     4       4\n",
      "992   993     1       8\n",
      "993   994     2      19\n",
      "994   995     4       9\n",
      "995   996     3      11\n",
      "996   997     3      12\n",
      "997   998     1       0\n",
      "998   999     1       9\n",
      "999  1000     3      17\n",
      "Original mean value : 9.216\n",
      "Total no of rows : 1000\n"
     ]
    }
   ],
   "source": [
    "#data = pd.DataFrame(dict({'ID':[1,2,3,4,5],'Zone':[5,5,5,5,1],'Weight':[15,17,16,12,19]}))\n",
    "\n",
    "# # creating data for sampling\n",
    "# # ID\n",
    "ID = np.arange(1,1001)\n",
    "# column zone \n",
    "# items = [1,2,3,4,5]\n",
    "# random.choice(items)\n",
    "Zone = random.choices([1,2,3,4,5], k=1000)\n",
    "# weight\n",
    "Weight = np.random.randint(20,size=(1000))\n",
    "\n",
    "\n",
    "df = pd.DataFrame(data=[ID, Zone,Weight]).T\n",
    "df.columns = ['ID','Zone','Weight']\n",
    "print(df[-10:])\n",
    "print('Original mean value of population :', df.Weight.mean())\n",
    "print('Total no of rows :',len(df))\n",
    "\n"
   ]
  },
  {
   "cell_type": "code",
   "execution_count": 93,
   "metadata": {
    "ExecuteTime": {
     "end_time": "2021-02-14T22:39:01.000808Z",
     "start_time": "2021-02-14T22:39:00.979248Z"
    }
   },
   "outputs": [
    {
     "name": "stdout",
     "output_type": "stream",
     "text": [
      "      ID  Zone  Weight\n",
      "1      2     1       8\n",
      "2      3     3       6\n",
      "6      7     2      13\n",
      "7      8     2      16\n",
      "12    13     2      10\n",
      "..   ...   ...     ...\n",
      "951  952     2      15\n",
      "956  957     5      10\n",
      "977  978     4       7\n",
      "979  980     1       3\n",
      "993  994     2      19\n",
      "\n",
      "[150 rows x 3 columns]\n",
      "Simple random mean: 9.83\n"
     ]
    }
   ],
   "source": [
    "# create a random samplewith 'n' rows\n",
    "simple_random_sample = df.sample(n=150).sort_values(by='ID')\n",
    "print(simple_random_sample)\n",
    "# calculating the mean for the sample\n",
    "simple_random_sample = round(simple_random_sample['Weight'].mean(),2)\n",
    "print('Simple random mean:',simple_random_sample)\n"
   ]
  },
  {
   "cell_type": "code",
   "execution_count": 99,
   "metadata": {
    "ExecuteTime": {
     "end_time": "2021-02-14T22:55:17.036575Z",
     "start_time": "2021-02-14T22:55:17.013295Z"
    }
   },
   "outputs": [
    {
     "name": "stdout",
     "output_type": "stream",
     "text": [
      "Systematic Sample Mean: 9.27\n"
     ]
    }
   ],
   "source": [
    "# systematic sampling\n",
    "systematic_sample = df[df.index %69 ==0]\n",
    "len(systematic_sample)\n",
    "systematic_sample_mean = round(systematic_sample['Weight'].mean(),2)\n",
    "print('Systematic Sample Mean:',systematic_sample_mean)"
   ]
  },
  {
   "cell_type": "code",
   "execution_count": 118,
   "metadata": {
    "ExecuteTime": {
     "end_time": "2021-02-14T23:13:37.214051Z",
     "start_time": "2021-02-14T23:13:37.179565Z"
    }
   },
   "outputs": [
    {
     "name": "stdout",
     "output_type": "stream",
     "text": [
      "   ID  Zone  Weight  Group_id\n",
      "0   1     5       4         1\n",
      "1   2     1       8         1\n",
      "2   3     3       6         1\n",
      "3   4     1       1         1\n",
      "4   5     2       9         1\n",
      "      ID  Zone  Weight  Group_id\n",
      "590  591     1      15        60\n",
      "591  592     4      14        60\n",
      "592  593     2       8        60\n",
      "593  594     1       9        60\n",
      "594  595     5       4        60\n",
      "595  596     1      14        60\n",
      "596  597     2       7        60\n",
      "597  598     4       5        60\n",
      "598  599     1      19        60\n",
      "599  600     3       2        60\n",
      "Cluster Sample Mean: (9.7, 2)\n"
     ]
    }
   ],
   "source": [
    "# ******* Cluster Sample Mean ********\n",
    "group_size = 100\n",
    "cluster_sample = df\n",
    "cluster_sample['Group_id'] = np.repeat([range(1,group_size + 1)],len(cluster_sample)/group_size)\n",
    "cluster_sample.tail()\n",
    "print(cluster_sample.head())\n",
    "#*******\n",
    "\n",
    "cluster_sample_selection = cluster_sample[cluster_sample.Group_id % 60 ==0]\n",
    "print(cluster_sample_selection)\n",
    "# calculating mean for the sample\n",
    "cluster_sample_selection_mean = round(cluster_sample_selection['Weight']).mean(),2\n",
    "print('Cluster Sample Mean:', cluster_sample_selection_mean)"
   ]
  },
  {
   "cell_type": "code",
   "execution_count": 121,
   "metadata": {
    "ExecuteTime": {
     "end_time": "2021-02-14T23:23:12.390643Z",
     "start_time": "2021-02-14T23:23:12.361210Z"
    }
   },
   "outputs": [
    {
     "name": "stdout",
     "output_type": "stream",
     "text": [
      "Stratefied Sample Mean: 9.4\n"
     ]
    }
   ],
   "source": [
    "#*******   Multi-stage cluster Mean  ************\n",
    "\n",
    "# startified sample\n",
    "\n",
    "N = 150\n",
    "\n",
    "# whatever distributation of the 'Zone' it will be remain in sample\n",
    "strat_sample = df.groupby('Zone',group_keys = False).apply(lambda x: x.sample(int(np.rint(N*len(x)/len(df))))).sample(frac=1).reset_index(drop = True)\n",
    "\n",
    "# calculating the mean for the sample\n",
    "strat_sample_mean = round(strat_sample['Weight'].mean(),2)\n",
    "print('Stratefied Sample Mean:',strat_sample_mean)\n"
   ]
  },
  {
   "cell_type": "code",
   "execution_count": null,
   "metadata": {},
   "outputs": [],
   "source": []
  }
 ],
 "metadata": {
  "kernelspec": {
   "display_name": "Python 3",
   "language": "python",
   "name": "python3"
  },
  "language_info": {
   "codemirror_mode": {
    "name": "ipython",
    "version": 3
   },
   "file_extension": ".py",
   "mimetype": "text/x-python",
   "name": "python",
   "nbconvert_exporter": "python",
   "pygments_lexer": "ipython3",
   "version": "3.7.6"
  }
 },
 "nbformat": 4,
 "nbformat_minor": 4
}
