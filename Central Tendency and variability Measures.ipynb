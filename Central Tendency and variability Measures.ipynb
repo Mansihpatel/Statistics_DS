{
 "cells": [
  {
   "cell_type": "code",
   "execution_count": 1,
   "metadata": {
    "ExecuteTime": {
     "end_time": "2021-02-15T11:23:37.615868Z",
     "start_time": "2021-02-15T11:23:37.610721Z"
    }
   },
   "outputs": [],
   "source": [
    "# Central Tendency - Mean,Median,Mode,Skewness and Kurtosis\n",
    "# Variability - Percentile, Variance ,Std.Deviation,Std.Error "
   ]
  },
  {
   "cell_type": "code",
   "execution_count": 4,
   "metadata": {
    "ExecuteTime": {
     "end_time": "2021-02-15T11:30:17.360436Z",
     "start_time": "2021-02-15T11:30:17.353330Z"
    }
   },
   "outputs": [],
   "source": [
    "import pandas as pd \n",
    "import numpy as np \n",
    "import matplotlib.pyplot as plt\n",
    "from scipy.stats import skew\n",
    "from scipy.stats import kurtosis\n",
    "from scipy import stats \n",
    "import random"
   ]
  },
  {
   "cell_type": "code",
   "execution_count": 19,
   "metadata": {
    "ExecuteTime": {
     "end_time": "2021-02-15T11:44:18.828729Z",
     "start_time": "2021-02-15T11:44:18.704896Z"
    }
   },
   "outputs": [
    {
     "data": {
      "text/html": [
       "<div>\n",
       "<style scoped>\n",
       "    .dataframe tbody tr th:only-of-type {\n",
       "        vertical-align: middle;\n",
       "    }\n",
       "\n",
       "    .dataframe tbody tr th {\n",
       "        vertical-align: top;\n",
       "    }\n",
       "\n",
       "    .dataframe thead th {\n",
       "        text-align: right;\n",
       "    }\n",
       "</style>\n",
       "<table border=\"1\" class=\"dataframe\">\n",
       "  <thead>\n",
       "    <tr style=\"text-align: right;\">\n",
       "      <th></th>\n",
       "      <th>Object</th>\n",
       "      <th>Measure</th>\n",
       "    </tr>\n",
       "  </thead>\n",
       "  <tbody>\n",
       "    <tr>\n",
       "      <th>0</th>\n",
       "      <td>1.0</td>\n",
       "      <td>-0.003904</td>\n",
       "    </tr>\n",
       "    <tr>\n",
       "      <th>1</th>\n",
       "      <td>2.0</td>\n",
       "      <td>-0.100610</td>\n",
       "    </tr>\n",
       "    <tr>\n",
       "      <th>2</th>\n",
       "      <td>3.0</td>\n",
       "      <td>0.029394</td>\n",
       "    </tr>\n",
       "    <tr>\n",
       "      <th>3</th>\n",
       "      <td>4.0</td>\n",
       "      <td>-0.077031</td>\n",
       "    </tr>\n",
       "    <tr>\n",
       "      <th>4</th>\n",
       "      <td>5.0</td>\n",
       "      <td>-0.145958</td>\n",
       "    </tr>\n",
       "  </tbody>\n",
       "</table>\n",
       "</div>"
      ],
      "text/plain": [
       "   Object   Measure\n",
       "0     1.0 -0.003904\n",
       "1     2.0 -0.100610\n",
       "2     3.0  0.029394\n",
       "3     4.0 -0.077031\n",
       "4     5.0 -0.145958"
      ]
     },
     "execution_count": 19,
     "metadata": {},
     "output_type": "execute_result"
    }
   ],
   "source": [
    "Object = np.arange(1,1001)\n",
    "#Measure = np.random.randint(20,size=(1000))\n",
    "mu, sigma = 0, 0.1 # mean and standard deviation\n",
    "Measure =  np.random.normal(mu, sigma, 1000)\n",
    "np.random.normal(0, 0.1, 1)\n",
    "\n",
    "\n",
    "original_data = pd.DataFrame(data = [Object,Measure]).T\n",
    "original_data.columns = ['Object','Measure']\n",
    "original_data.head()"
   ]
  },
  {
   "cell_type": "code",
   "execution_count": 20,
   "metadata": {
    "ExecuteTime": {
     "end_time": "2021-02-15T11:44:22.281145Z",
     "start_time": "2021-02-15T11:44:21.909747Z"
    }
   },
   "outputs": [
    {
     "data": {
      "text/plain": [
       "Text(0.5, 0, 'Random Data')"
      ]
     },
     "execution_count": 20,
     "metadata": {},
     "output_type": "execute_result"
    },
    {
     "data": {
      "image/png": "[encoded data removed]",
      "text/plain": [
       "<Figure size 432x288 with 1 Axes>"
      ]
     },
     "metadata": {
      "needs_background": "light"
     },
     "output_type": "display_data"
    }
   ],
   "source": [
    "# distributation\n",
    "plt.hist(original_data['Measure'],density= True,bins=30)\n",
    "plt.ylabel('Probability')\n",
    "plt.xlabel('Random Data')"
   ]
  },
  {
   "cell_type": "code",
   "execution_count": 22,
   "metadata": {
    "ExecuteTime": {
     "end_time": "2021-02-15T12:35:09.749111Z",
     "start_time": "2021-02-15T12:35:09.721365Z"
    }
   },
   "outputs": [
    {
     "name": "stdout",
     "output_type": "stream",
     "text": [
      "Mean: 0.006109069907602654\n",
      "Median: 0.01022673128900995\n",
      "Mode: 0     -0.383926\n",
      "1     -0.280463\n",
      "2     -0.265247\n",
      "3     -0.258674\n",
      "4     -0.250876\n",
      "         ...   \n",
      "995    0.263533\n",
      "996    0.269724\n",
      "997    0.334664\n",
      "998    0.335070\n",
      "999    0.336938\n",
      "Length: 1000, dtype: float64\n",
      "Skewness: -0.026418735540589926\n",
      "Kurtosis: 0.0032575158343255417\n"
     ]
    }
   ],
   "source": [
    "# central tendency \n",
    "print('Mean:',original_data['Measure'].mean())\n",
    "print('Median:',original_data['Measure'].median())\n",
    "print('Mode:',original_data['Measure'].mode())\n",
    "print('Skewness:',skew(original_data['Measure']))\n",
    "\n",
    "# 0 means a normal distributation\n",
    "\n",
    "# to check for -ve or +ve skewness\n",
    "print('Kurtosis:',kurtosis(original_data['Measure']))\n",
    "# Probability of outliers in data\n",
    "# leptokurtic - high kurtosis- Many outliers\n",
    "# platykurtic - Low kurtosis- less outliers\n",
    "\n",
    "\n"
   ]
  },
  {
   "cell_type": "code",
   "execution_count": 23,
   "metadata": {
    "ExecuteTime": {
     "end_time": "2021-02-15T12:42:31.010522Z",
     "start_time": "2021-02-15T12:42:30.987213Z"
    }
   },
   "outputs": [
    {
     "data": {
      "text/plain": [
       "0.1   -0.126119\n",
       "0.2   -0.081578\n",
       "0.3   -0.048987\n",
       "0.4   -0.018419\n",
       "0.5    0.010227\n",
       "0.6    0.036615\n",
       "0.7    0.060537\n",
       "0.8    0.089552\n",
       "0.9    0.129547\n",
       "Name: Measure, dtype: float64"
      ]
     },
     "execution_count": 23,
     "metadata": {},
     "output_type": "execute_result"
    }
   ],
   "source": [
    "# ***************** Percentile\n",
    "\n",
    "original_data['Measure'].quantile(np.linspace(.1,1,9,0))\n",
    "\n"
   ]
  },
  {
   "cell_type": "code",
   "execution_count": 24,
   "metadata": {
    "ExecuteTime": {
     "end_time": "2021-02-15T14:15:26.757441Z",
     "start_time": "2021-02-15T14:15:26.745474Z"
    }
   },
   "outputs": [
    {
     "data": {
      "text/plain": [
       "0.010147099421526164"
      ]
     },
     "execution_count": 24,
     "metadata": {},
     "output_type": "execute_result"
    }
   ],
   "source": [
    "# variance - Mesure how far the individual values go from the mean\n",
    "\n",
    "np.var(original_data['Measure'])\n"
   ]
  },
  {
   "cell_type": "code",
   "execution_count": 25,
   "metadata": {
    "ExecuteTime": {
     "end_time": "2021-02-15T14:17:11.557883Z",
     "start_time": "2021-02-15T14:17:11.539931Z"
    }
   },
   "outputs": [
    {
     "data": {
      "text/plain": [
       "0.10073281204019952"
      ]
     },
     "execution_count": 25,
     "metadata": {},
     "output_type": "execute_result"
    }
   ],
   "source": [
    "# sd - mesure of volatality in the data too, it is actually square root of the variance\n",
    "\n",
    "np.std(original_data['Measure'])\n"
   ]
  },
  {
   "cell_type": "code",
   "execution_count": 26,
   "metadata": {
    "ExecuteTime": {
     "end_time": "2021-02-15T14:17:54.523459Z",
     "start_time": "2021-02-15T14:17:54.502521Z"
    }
   },
   "outputs": [
    {
     "data": {
      "text/plain": [
       "0.003187045132752965"
      ]
     },
     "execution_count": 26,
     "metadata": {},
     "output_type": "execute_result"
    }
   ],
   "source": [
    "# standard error of mean -SEM -how estimated calculate population mean is\n",
    "stats.sem(original_data['Measure'])"
   ]
  },
  {
   "cell_type": "markdown",
   "metadata": {},
   "source": [
    "# Relationship mesuare & Distributation\n",
    "# Causation , Correlation, Co-variance,Distribution\n",
    "\n"
   ]
  },
  {
   "cell_type": "code",
   "execution_count": 27,
   "metadata": {
    "ExecuteTime": {
     "end_time": "2021-02-15T14:25:50.309240Z",
     "start_time": "2021-02-15T14:25:50.290292Z"
    }
   },
   "outputs": [],
   "source": [
    "# causation,covariance and correlation\n",
    "# Distribution - intro,Discreate and Continous Distribution\n",
    "# Example of Normal and Binomial Distribution\n"
   ]
  },
  {
   "cell_type": "code",
   "execution_count": 42,
   "metadata": {
    "ExecuteTime": {
     "end_time": "2021-02-15T14:43:16.827357Z",
     "start_time": "2021-02-15T14:43:16.801434Z"
    }
   },
   "outputs": [
    {
     "data": {
      "text/html": [
       "<div>\n",
       "<style scoped>\n",
       "    .dataframe tbody tr th:only-of-type {\n",
       "        vertical-align: middle;\n",
       "    }\n",
       "\n",
       "    .dataframe tbody tr th {\n",
       "        vertical-align: top;\n",
       "    }\n",
       "\n",
       "    .dataframe thead th {\n",
       "        text-align: right;\n",
       "    }\n",
       "</style>\n",
       "<table border=\"1\" class=\"dataframe\">\n",
       "  <thead>\n",
       "    <tr style=\"text-align: right;\">\n",
       "      <th></th>\n",
       "      <th>Input</th>\n",
       "      <th>Output</th>\n",
       "    </tr>\n",
       "  </thead>\n",
       "  <tbody>\n",
       "    <tr>\n",
       "      <th>0</th>\n",
       "      <td>1003</td>\n",
       "      <td>23</td>\n",
       "    </tr>\n",
       "    <tr>\n",
       "      <th>1</th>\n",
       "      <td>1452</td>\n",
       "      <td>16</td>\n",
       "    </tr>\n",
       "    <tr>\n",
       "      <th>2</th>\n",
       "      <td>1502</td>\n",
       "      <td>11</td>\n",
       "    </tr>\n",
       "    <tr>\n",
       "      <th>3</th>\n",
       "      <td>1077</td>\n",
       "      <td>24</td>\n",
       "    </tr>\n",
       "    <tr>\n",
       "      <th>4</th>\n",
       "      <td>1219</td>\n",
       "      <td>18</td>\n",
       "    </tr>\n",
       "  </tbody>\n",
       "</table>\n",
       "</div>"
      ],
      "text/plain": [
       "   Input  Output\n",
       "0   1003      23\n",
       "1   1452      16\n",
       "2   1502      11\n",
       "3   1077      24\n",
       "4   1219      18"
      ]
     },
     "execution_count": 42,
     "metadata": {},
     "output_type": "execute_result"
    }
   ],
   "source": [
    "Input = np.random.randint(low=1000, high=2000.3,size=(100))\n",
    "Output = np.random.randint(low=10, high=30,size=(100))\n",
    "Input\n",
    "#sampl = np.random.uniform(low=0.5, high=13.3, size=(50,))\n",
    "\n",
    "data = pd.DataFrame([Input,Output]).T\n",
    "data.columns = ['Input','Output']\n",
    "data.head()\n"
   ]
  },
  {
   "cell_type": "code",
   "execution_count": 45,
   "metadata": {
    "ExecuteTime": {
     "end_time": "2021-02-15T14:45:47.996937Z",
     "start_time": "2021-02-15T14:45:47.974376Z"
    }
   },
   "outputs": [
    {
     "data": {
      "text/html": [
       "<div>\n",
       "<style scoped>\n",
       "    .dataframe tbody tr th:only-of-type {\n",
       "        vertical-align: middle;\n",
       "    }\n",
       "\n",
       "    .dataframe tbody tr th {\n",
       "        vertical-align: top;\n",
       "    }\n",
       "\n",
       "    .dataframe thead th {\n",
       "        text-align: right;\n",
       "    }\n",
       "</style>\n",
       "<table border=\"1\" class=\"dataframe\">\n",
       "  <thead>\n",
       "    <tr style=\"text-align: right;\">\n",
       "      <th></th>\n",
       "      <th>Input</th>\n",
       "      <th>Output</th>\n",
       "    </tr>\n",
       "  </thead>\n",
       "  <tbody>\n",
       "    <tr>\n",
       "      <th>Input</th>\n",
       "      <td>85376.789798</td>\n",
       "      <td>151.464747</td>\n",
       "    </tr>\n",
       "    <tr>\n",
       "      <th>Output</th>\n",
       "      <td>151.464747</td>\n",
       "      <td>33.977677</td>\n",
       "    </tr>\n",
       "  </tbody>\n",
       "</table>\n",
       "</div>"
      ],
      "text/plain": [
       "               Input      Output\n",
       "Input   85376.789798  151.464747\n",
       "Output    151.464747   33.977677"
      ]
     },
     "execution_count": 45,
     "metadata": {},
     "output_type": "execute_result"
    }
   ],
   "source": [
    "data.cov()\n"
   ]
  },
  {
   "cell_type": "code",
   "execution_count": 46,
   "metadata": {
    "ExecuteTime": {
     "end_time": "2021-02-15T14:47:39.606272Z",
     "start_time": "2021-02-15T14:47:39.586460Z"
    }
   },
   "outputs": [
    {
     "data": {
      "text/html": [
       "<div>\n",
       "<style scoped>\n",
       "    .dataframe tbody tr th:only-of-type {\n",
       "        vertical-align: middle;\n",
       "    }\n",
       "\n",
       "    .dataframe tbody tr th {\n",
       "        vertical-align: top;\n",
       "    }\n",
       "\n",
       "    .dataframe thead th {\n",
       "        text-align: right;\n",
       "    }\n",
       "</style>\n",
       "<table border=\"1\" class=\"dataframe\">\n",
       "  <thead>\n",
       "    <tr style=\"text-align: right;\">\n",
       "      <th></th>\n",
       "      <th>Input</th>\n",
       "      <th>Output</th>\n",
       "    </tr>\n",
       "  </thead>\n",
       "  <tbody>\n",
       "    <tr>\n",
       "      <th>Input</th>\n",
       "      <td>1.000000</td>\n",
       "      <td>0.088929</td>\n",
       "    </tr>\n",
       "    <tr>\n",
       "      <th>Output</th>\n",
       "      <td>0.088929</td>\n",
       "      <td>1.000000</td>\n",
       "    </tr>\n",
       "  </tbody>\n",
       "</table>\n",
       "</div>"
      ],
      "text/plain": [
       "           Input    Output\n",
       "Input   1.000000  0.088929\n",
       "Output  0.088929  1.000000"
      ]
     },
     "execution_count": 46,
     "metadata": {},
     "output_type": "execute_result"
    }
   ],
   "source": [
    "data.corr()\n",
    "# here its not related to each other as 0.088"
   ]
  },
  {
   "cell_type": "code",
   "execution_count": 47,
   "metadata": {
    "ExecuteTime": {
     "end_time": "2021-02-15T15:11:20.304130Z",
     "start_time": "2021-02-15T15:11:19.928122Z"
    }
   },
   "outputs": [
    {
     "name": "stderr",
     "output_type": "stream",
     "text": [
      "C:\\Users\\lenovo\\anaconda3\\lib\\importlib\\_bootstrap.py:219: RuntimeWarning: numpy.ufunc size changed, may indicate binary incompatibility. Expected 192 from C header, got 216 from PyObject\n",
      "  return f(*args, **kwds)\n"
     ]
    }
   ],
   "source": [
    "# ******** probability Distributions\n",
    "\n",
    "import matplotlib.pyplot as plt\n",
    "import seaborn as sns\n",
    "sns.set(style='darkgrid')"
   ]
  },
  {
   "cell_type": "code",
   "execution_count": 49,
   "metadata": {
    "ExecuteTime": {
     "end_time": "2021-02-15T15:44:05.809297Z",
     "start_time": "2021-02-15T15:44:05.718540Z"
    }
   },
   "outputs": [
    {
     "data": {
      "text/html": [
       "<div>\n",
       "<style scoped>\n",
       "    .dataframe tbody tr th:only-of-type {\n",
       "        vertical-align: middle;\n",
       "    }\n",
       "\n",
       "    .dataframe tbody tr th {\n",
       "        vertical-align: top;\n",
       "    }\n",
       "\n",
       "    .dataframe thead th {\n",
       "        text-align: right;\n",
       "    }\n",
       "</style>\n",
       "<table border=\"1\" class=\"dataframe\">\n",
       "  <thead>\n",
       "    <tr style=\"text-align: right;\">\n",
       "      <th></th>\n",
       "      <th>ID</th>\n",
       "      <th>Weight</th>\n",
       "    </tr>\n",
       "  </thead>\n",
       "  <tbody>\n",
       "    <tr>\n",
       "      <th>0</th>\n",
       "      <td>1</td>\n",
       "      <td>168</td>\n",
       "    </tr>\n",
       "    <tr>\n",
       "      <th>1</th>\n",
       "      <td>2</td>\n",
       "      <td>69</td>\n",
       "    </tr>\n",
       "    <tr>\n",
       "      <th>2</th>\n",
       "      <td>3</td>\n",
       "      <td>60</td>\n",
       "    </tr>\n",
       "    <tr>\n",
       "      <th>3</th>\n",
       "      <td>4</td>\n",
       "      <td>21</td>\n",
       "    </tr>\n",
       "    <tr>\n",
       "      <th>4</th>\n",
       "      <td>5</td>\n",
       "      <td>65</td>\n",
       "    </tr>\n",
       "  </tbody>\n",
       "</table>\n",
       "</div>"
      ],
      "text/plain": [
       "   ID  Weight\n",
       "0   1     168\n",
       "1   2      69\n",
       "2   3      60\n",
       "3   4      21\n",
       "4   5      65"
      ]
     },
     "execution_count": 49,
     "metadata": {},
     "output_type": "execute_result"
    }
   ],
   "source": [
    "ID = np.arange(1,1001)\n",
    "Weight = np.random.randint(low=20, high=200,size=(1000))\n",
    "data =pd.DataFrame([ID,Weight]).T\n",
    "data.columns = ['ID','Weight']\n",
    "data.head()\n"
   ]
  },
  {
   "cell_type": "code",
   "execution_count": 50,
   "metadata": {
    "ExecuteTime": {
     "end_time": "2021-02-15T15:44:38.217415Z",
     "start_time": "2021-02-15T15:44:37.908347Z"
    }
   },
   "outputs": [
    {
     "data": {
      "text/plain": [
       "(array([0.00569832, 0.00486034, 0.00653631, 0.00603352, 0.00469274,\n",
       "        0.00519553, 0.00569832, 0.00636872, 0.00821229, 0.00519553,\n",
       "        0.00502793, 0.00653631, 0.00636872, 0.00486034, 0.00469274,\n",
       "        0.00670391, 0.00536313, 0.00502793, 0.00435754, 0.00519553,\n",
       "        0.00519553, 0.00519553, 0.00536313, 0.00569832, 0.00620112,\n",
       "        0.00603352, 0.00536313, 0.00502793, 0.00486034, 0.00603352]),\n",
       " array([ 20.        ,  25.96666667,  31.93333333,  37.9       ,\n",
       "         43.86666667,  49.83333333,  55.8       ,  61.76666667,\n",
       "         67.73333333,  73.7       ,  79.66666667,  85.63333333,\n",
       "         91.6       ,  97.56666667, 103.53333333, 109.5       ,\n",
       "        115.46666667, 121.43333333, 127.4       , 133.36666667,\n",
       "        139.33333333, 145.3       , 151.26666667, 157.23333333,\n",
       "        163.2       , 169.16666667, 175.13333333, 181.1       ,\n",
       "        187.06666667, 193.03333333, 199.        ]),\n",
       " <a list of 30 Patch objects>)"
      ]
     },
     "execution_count": 50,
     "metadata": {},
     "output_type": "execute_result"
    },
    {
     "data": {
      "image/png": "[encoded data removed]",
      "text/plain": [
       "<Figure size 432x288 with 1 Axes>"
      ]
     },
     "metadata": {},
     "output_type": "display_data"
    }
   ],
   "source": [
    "# check distribution --draw histogram\n",
    "plt.hist(data.Weight,density=True,bins=30)"
   ]
  },
  {
   "cell_type": "code",
   "execution_count": 52,
   "metadata": {
    "ExecuteTime": {
     "end_time": "2021-02-15T15:57:05.247366Z",
     "start_time": "2021-02-15T15:57:05.235404Z"
    }
   },
   "outputs": [],
   "source": [
    "# creating function for central limit theoram to check - CLT\n",
    "def random_subsets(data,tot_subsets,sub_size):\n",
    "    subset_means = []\n",
    "    for i in range(tot_subsets):\n",
    "        subset = data.sample(n=sub_size)\n",
    "        subset_mean = np.array(subset).mean()\n",
    "        subset_means.append(subset_mean)\n",
    "    return subset_means\n",
    "        "
   ]
  },
  {
   "cell_type": "code",
   "execution_count": 53,
   "metadata": {
    "ExecuteTime": {
     "end_time": "2021-02-15T15:58:49.149017Z",
     "start_time": "2021-02-15T15:58:48.753332Z"
    }
   },
   "outputs": [
    {
     "data": {
      "text/plain": [
       "<matplotlib.axes._subplots.AxesSubplot at 0x19298fbdfc8>"
      ]
     },
     "execution_count": 53,
     "metadata": {},
     "output_type": "execute_result"
    },
    {
     "data": {
      "image/png": "[encoded data removed]",
      "text/plain": [
       "<Figure size 432x288 with 1 Axes>"
      ]
     },
     "metadata": {},
     "output_type": "display_data"
    }
   ],
   "source": [
    "subsets_from_data = random_subsets(data,500,30)\n",
    "# keep increasing in the total number of subsets\n",
    "sns.distplot(subsets_from_data,hist=False)"
   ]
  },
  {
   "cell_type": "code",
   "execution_count": null,
   "metadata": {},
   "outputs": [],
   "source": []
  }
 ],
 "metadata": {
  "kernelspec": {
   "display_name": "Python 3",
   "language": "python",
   "name": "python3"
  },
  "language_info": {
   "codemirror_mode": {
    "name": "ipython",
    "version": 3
   },
   "file_extension": ".py",
   "mimetype": "text/x-python",
   "name": "python",
   "nbconvert_exporter": "python",
   "pygments_lexer": "ipython3",
   "version": "3.7.6"
  }
 },
 "nbformat": 4,
 "nbformat_minor": 4
}
